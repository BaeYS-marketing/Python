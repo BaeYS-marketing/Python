{
 "cells": [
  {
   "cell_type": "code",
   "execution_count": 5,
   "metadata": {},
   "outputs": [],
   "source": [
    "from sklearn.datasets import load_breast_cancer\n",
    "import matplotlib.pyplot as plt\n",
    "import mglearn\n"
   ]
  },
  {
   "cell_type": "code",
   "execution_count": 6,
   "metadata": {},
   "outputs": [
    {
     "data": {
      "text/plain": [
       "{'data': array([[1.799e+01, 1.038e+01, 1.228e+02, ..., 2.654e-01, 4.601e-01,\n",
       "         1.189e-01],\n",
       "        [2.057e+01, 1.777e+01, 1.329e+02, ..., 1.860e-01, 2.750e-01,\n",
       "         8.902e-02],\n",
       "        [1.969e+01, 2.125e+01, 1.300e+02, ..., 2.430e-01, 3.613e-01,\n",
       "         8.758e-02],\n",
       "        ...,\n",
       "        [1.660e+01, 2.808e+01, 1.083e+02, ..., 1.418e-01, 2.218e-01,\n",
       "         7.820e-02],\n",
       "        [2.060e+01, 2.933e+01, 1.401e+02, ..., 2.650e-01, 4.087e-01,\n",
       "         1.240e-01],\n",
       "        [7.760e+00, 2.454e+01, 4.792e+01, ..., 0.000e+00, 2.871e-01,\n",
       "         7.039e-02]]),\n",
       " 'target': array([0, 0, 0, 0, 0, 0, 0, 0, 0, 0, 0, 0, 0, 0, 0, 0, 0, 0, 0, 1, 1, 1,\n",
       "        0, 0, 0, 0, 0, 0, 0, 0, 0, 0, 0, 0, 0, 0, 0, 1, 0, 0, 0, 0, 0, 0,\n",
       "        0, 0, 1, 0, 1, 1, 1, 1, 1, 0, 0, 1, 0, 0, 1, 1, 1, 1, 0, 1, 0, 0,\n",
       "        1, 1, 1, 1, 0, 1, 0, 0, 1, 0, 1, 0, 0, 1, 1, 1, 0, 0, 1, 0, 0, 0,\n",
       "        1, 1, 1, 0, 1, 1, 0, 0, 1, 1, 1, 0, 0, 1, 1, 1, 1, 0, 1, 1, 0, 1,\n",
       "        1, 1, 1, 1, 1, 1, 1, 0, 0, 0, 1, 0, 0, 1, 1, 1, 0, 0, 1, 0, 1, 0,\n",
       "        0, 1, 0, 0, 1, 1, 0, 1, 1, 0, 1, 1, 1, 1, 0, 1, 1, 1, 1, 1, 1, 1,\n",
       "        1, 1, 0, 1, 1, 1, 1, 0, 0, 1, 0, 1, 1, 0, 0, 1, 1, 0, 0, 1, 1, 1,\n",
       "        1, 0, 1, 1, 0, 0, 0, 1, 0, 1, 0, 1, 1, 1, 0, 1, 1, 0, 0, 1, 0, 0,\n",
       "        0, 0, 1, 0, 0, 0, 1, 0, 1, 0, 1, 1, 0, 1, 0, 0, 0, 0, 1, 1, 0, 0,\n",
       "        1, 1, 1, 0, 1, 1, 1, 1, 1, 0, 0, 1, 1, 0, 1, 1, 0, 0, 1, 0, 1, 1,\n",
       "        1, 1, 0, 1, 1, 1, 1, 1, 0, 1, 0, 0, 0, 0, 0, 0, 0, 0, 0, 0, 0, 0,\n",
       "        0, 0, 1, 1, 1, 1, 1, 1, 0, 1, 0, 1, 1, 0, 1, 1, 0, 1, 0, 0, 1, 1,\n",
       "        1, 1, 1, 1, 1, 1, 1, 1, 1, 1, 1, 0, 1, 1, 0, 1, 0, 1, 1, 1, 1, 1,\n",
       "        1, 1, 1, 1, 1, 1, 1, 1, 1, 0, 1, 1, 1, 0, 1, 0, 1, 1, 1, 1, 0, 0,\n",
       "        0, 1, 1, 1, 1, 0, 1, 0, 1, 0, 1, 1, 1, 0, 1, 1, 1, 1, 1, 1, 1, 0,\n",
       "        0, 0, 1, 1, 1, 1, 1, 1, 1, 1, 1, 1, 1, 0, 0, 1, 0, 0, 0, 1, 0, 0,\n",
       "        1, 1, 1, 1, 1, 0, 1, 1, 1, 1, 1, 0, 1, 1, 1, 0, 1, 1, 0, 0, 1, 1,\n",
       "        1, 1, 1, 1, 0, 1, 1, 1, 1, 1, 1, 1, 0, 1, 1, 1, 1, 1, 0, 1, 1, 0,\n",
       "        1, 1, 1, 1, 1, 1, 1, 1, 1, 1, 1, 1, 0, 1, 0, 0, 1, 0, 1, 1, 1, 1,\n",
       "        1, 0, 1, 1, 0, 1, 0, 1, 1, 0, 1, 0, 1, 1, 1, 1, 1, 1, 1, 1, 0, 0,\n",
       "        1, 1, 1, 1, 1, 1, 0, 1, 1, 1, 1, 1, 1, 1, 1, 1, 1, 0, 1, 1, 1, 1,\n",
       "        1, 1, 1, 0, 1, 0, 1, 1, 0, 1, 1, 1, 1, 1, 0, 0, 1, 0, 1, 0, 1, 1,\n",
       "        1, 1, 1, 0, 1, 1, 0, 1, 0, 1, 0, 0, 1, 1, 1, 0, 1, 1, 1, 1, 1, 1,\n",
       "        1, 1, 1, 1, 1, 0, 1, 0, 0, 1, 1, 1, 1, 1, 1, 1, 1, 1, 1, 1, 1, 1,\n",
       "        1, 1, 1, 1, 1, 1, 1, 1, 1, 1, 1, 1, 0, 0, 0, 0, 0, 0, 1]),\n",
       " 'target_names': array(['malignant', 'benign'], dtype='<U9'),\n",
       " 'DESCR': '.. _breast_cancer_dataset:\\n\\nBreast cancer wisconsin (diagnostic) dataset\\n--------------------------------------------\\n\\n**Data Set Characteristics:**\\n\\n    :Number of Instances: 569\\n\\n    :Number of Attributes: 30 numeric, predictive attributes and the class\\n\\n    :Attribute Information:\\n        - radius (mean of distances from center to points on the perimeter)\\n        - texture (standard deviation of gray-scale values)\\n        - perimeter\\n        - area\\n        - smoothness (local variation in radius lengths)\\n        - compactness (perimeter^2 / area - 1.0)\\n        - concavity (severity of concave portions of the contour)\\n        - concave points (number of concave portions of the contour)\\n        - symmetry \\n        - fractal dimension (\"coastline approximation\" - 1)\\n\\n        The mean, standard error, and \"worst\" or largest (mean of the three\\n        largest values) of these features were computed for each image,\\n        resulting in 30 features.  For instance, field 3 is Mean Radius, field\\n        13 is Radius SE, field 23 is Worst Radius.\\n\\n        - class:\\n                - WDBC-Malignant\\n                - WDBC-Benign\\n\\n    :Summary Statistics:\\n\\n    ===================================== ====== ======\\n                                           Min    Max\\n    ===================================== ====== ======\\n    radius (mean):                        6.981  28.11\\n    texture (mean):                       9.71   39.28\\n    perimeter (mean):                     43.79  188.5\\n    area (mean):                          143.5  2501.0\\n    smoothness (mean):                    0.053  0.163\\n    compactness (mean):                   0.019  0.345\\n    concavity (mean):                     0.0    0.427\\n    concave points (mean):                0.0    0.201\\n    symmetry (mean):                      0.106  0.304\\n    fractal dimension (mean):             0.05   0.097\\n    radius (standard error):              0.112  2.873\\n    texture (standard error):             0.36   4.885\\n    perimeter (standard error):           0.757  21.98\\n    area (standard error):                6.802  542.2\\n    smoothness (standard error):          0.002  0.031\\n    compactness (standard error):         0.002  0.135\\n    concavity (standard error):           0.0    0.396\\n    concave points (standard error):      0.0    0.053\\n    symmetry (standard error):            0.008  0.079\\n    fractal dimension (standard error):   0.001  0.03\\n    radius (worst):                       7.93   36.04\\n    texture (worst):                      12.02  49.54\\n    perimeter (worst):                    50.41  251.2\\n    area (worst):                         185.2  4254.0\\n    smoothness (worst):                   0.071  0.223\\n    compactness (worst):                  0.027  1.058\\n    concavity (worst):                    0.0    1.252\\n    concave points (worst):               0.0    0.291\\n    symmetry (worst):                     0.156  0.664\\n    fractal dimension (worst):            0.055  0.208\\n    ===================================== ====== ======\\n\\n    :Missing Attribute Values: None\\n\\n    :Class Distribution: 212 - Malignant, 357 - Benign\\n\\n    :Creator:  Dr. William H. Wolberg, W. Nick Street, Olvi L. Mangasarian\\n\\n    :Donor: Nick Street\\n\\n    :Date: November, 1995\\n\\nThis is a copy of UCI ML Breast Cancer Wisconsin (Diagnostic) datasets.\\nhttps://goo.gl/U2Uwz2\\n\\nFeatures are computed from a digitized image of a fine needle\\naspirate (FNA) of a breast mass.  They describe\\ncharacteristics of the cell nuclei present in the image.\\n\\nSeparating plane described above was obtained using\\nMultisurface Method-Tree (MSM-T) [K. P. Bennett, \"Decision Tree\\nConstruction Via Linear Programming.\" Proceedings of the 4th\\nMidwest Artificial Intelligence and Cognitive Science Society,\\npp. 97-101, 1992], a classification method which uses linear\\nprogramming to construct a decision tree.  Relevant features\\nwere selected using an exhaustive search in the space of 1-4\\nfeatures and 1-3 separating planes.\\n\\nThe actual linear program used to obtain the separating plane\\nin the 3-dimensional space is that described in:\\n[K. P. Bennett and O. L. Mangasarian: \"Robust Linear\\nProgramming Discrimination of Two Linearly Inseparable Sets\",\\nOptimization Methods and Software 1, 1992, 23-34].\\n\\nThis database is also available through the UW CS ftp server:\\n\\nftp ftp.cs.wisc.edu\\ncd math-prog/cpo-dataset/machine-learn/WDBC/\\n\\n.. topic:: References\\n\\n   - W.N. Street, W.H. Wolberg and O.L. Mangasarian. Nuclear feature extraction \\n     for breast tumor diagnosis. IS&T/SPIE 1993 International Symposium on \\n     Electronic Imaging: Science and Technology, volume 1905, pages 861-870,\\n     San Jose, CA, 1993.\\n   - O.L. Mangasarian, W.N. Street and W.H. Wolberg. Breast cancer diagnosis and \\n     prognosis via linear programming. Operations Research, 43(4), pages 570-577, \\n     July-August 1995.\\n   - W.H. Wolberg, W.N. Street, and O.L. Mangasarian. Machine learning techniques\\n     to diagnose breast cancer from fine-needle aspirates. Cancer Letters 77 (1994) \\n     163-171.',\n",
       " 'feature_names': array(['mean radius', 'mean texture', 'mean perimeter', 'mean area',\n",
       "        'mean smoothness', 'mean compactness', 'mean concavity',\n",
       "        'mean concave points', 'mean symmetry', 'mean fractal dimension',\n",
       "        'radius error', 'texture error', 'perimeter error', 'area error',\n",
       "        'smoothness error', 'compactness error', 'concavity error',\n",
       "        'concave points error', 'symmetry error',\n",
       "        'fractal dimension error', 'worst radius', 'worst texture',\n",
       "        'worst perimeter', 'worst area', 'worst smoothness',\n",
       "        'worst compactness', 'worst concavity', 'worst concave points',\n",
       "        'worst symmetry', 'worst fractal dimension'], dtype='<U23'),\n",
       " 'filename': 'C:\\\\Users\\\\student\\\\Anaconda3\\\\lib\\\\site-packages\\\\sklearn\\\\datasets\\\\data\\\\breast_cancer.csv'}"
      ]
     },
     "execution_count": 6,
     "metadata": {},
     "output_type": "execute_result"
    }
   ],
   "source": [
    "cancer = load_breast_cancer()\n",
    "cancer"
   ]
  },
  {
   "cell_type": "code",
   "execution_count": 8,
   "metadata": {},
   "outputs": [
    {
     "data": {
      "text/plain": [
       "dict_keys(['data', 'target', 'target_names', 'DESCR', 'feature_names', 'filename'])"
      ]
     },
     "execution_count": 8,
     "metadata": {},
     "output_type": "execute_result"
    }
   ],
   "source": [
    "cancer.keys()"
   ]
  },
  {
   "cell_type": "code",
   "execution_count": 9,
   "metadata": {
    "scrolled": true
   },
   "outputs": [
    {
     "data": {
      "text/plain": [
       "array(['mean radius', 'mean texture', 'mean perimeter', 'mean area',\n",
       "       'mean smoothness', 'mean compactness', 'mean concavity',\n",
       "       'mean concave points', 'mean symmetry', 'mean fractal dimension',\n",
       "       'radius error', 'texture error', 'perimeter error', 'area error',\n",
       "       'smoothness error', 'compactness error', 'concavity error',\n",
       "       'concave points error', 'symmetry error',\n",
       "       'fractal dimension error', 'worst radius', 'worst texture',\n",
       "       'worst perimeter', 'worst area', 'worst smoothness',\n",
       "       'worst compactness', 'worst concavity', 'worst concave points',\n",
       "       'worst symmetry', 'worst fractal dimension'], dtype='<U23')"
      ]
     },
     "execution_count": 9,
     "metadata": {},
     "output_type": "execute_result"
    }
   ],
   "source": [
    "cancer['feature_names']"
   ]
  },
  {
   "cell_type": "markdown",
   "metadata": {},
   "source": [
    "# 선형 회귀분석 공부"
   ]
  },
  {
   "cell_type": "code",
   "execution_count": null,
   "metadata": {},
   "outputs": [],
   "source": [
    "import matplotlib\n",
    "matplotlib.rc('font', family='NanumGothic')\n",
    "matplotlib.rcParams['axes.unicode_minus'] = False  #음수 깨지는거 "
   ]
  },
  {
   "cell_type": "code",
   "execution_count": null,
   "metadata": {
    "scrolled": true
   },
   "outputs": [],
   "source": [
    "mglearn.plots.plot_linear_regression_wave()"
   ]
  },
  {
   "cell_type": "code",
   "execution_count": null,
   "metadata": {},
   "outputs": [],
   "source": []
  },
  {
   "cell_type": "code",
   "execution_count": 50,
   "metadata": {},
   "outputs": [],
   "source": [
    "from sklearn.linear_model import LinearRegression\n",
    "X, y = mglearn.datasets.make_wave(n_samples=60)\n",
    "X_train, X_test, y_train, y_test = train_test_split(X, y, random_state=41)\n",
    "\n",
    "lr = LinearRegression().fit(X_train, y_train)"
   ]
  },
  {
   "cell_type": "code",
   "execution_count": 51,
   "metadata": {},
   "outputs": [
    {
     "data": {
      "text/plain": [
       "array([[-0.75275929],\n",
       "       [ 2.70428584],\n",
       "       [ 1.39196365],\n",
       "       [ 0.59195091],\n",
       "       [-2.06388816],\n",
       "       [-2.06403288],\n",
       "       [-2.65149833],\n",
       "       [ 2.19705687],\n",
       "       [ 0.60669007],\n",
       "       [ 1.24843547],\n",
       "       [-2.87649303],\n",
       "       [ 2.81945911],\n",
       "       [ 1.99465584],\n",
       "       [-1.72596534],\n",
       "       [-1.9090502 ],\n",
       "       [-1.89957294],\n",
       "       [-1.17454654],\n",
       "       [ 0.14853859],\n",
       "       [-0.40832989],\n",
       "       [-1.25262516],\n",
       "       [ 0.67111737],\n",
       "       [-2.16303684],\n",
       "       [-1.24713211],\n",
       "       [-0.80182894],\n",
       "       [-0.26358009],\n",
       "       [ 1.71105577],\n",
       "       [-1.80195731],\n",
       "       [ 0.08540663],\n",
       "       [ 0.55448741],\n",
       "       [-2.72129752],\n",
       "       [ 0.64526911],\n",
       "       [-1.97685526],\n",
       "       [-2.60969044],\n",
       "       [ 2.69331322],\n",
       "       [ 2.7937922 ],\n",
       "       [ 1.85038409],\n",
       "       [-1.17231738],\n",
       "       [-2.41396732],\n",
       "       [ 1.10539816],\n",
       "       [-0.35908504],\n",
       "       [-2.26777059],\n",
       "       [-0.02893854],\n",
       "       [-2.79366887],\n",
       "       [ 2.45592241],\n",
       "       [-1.44732011],\n",
       "       [ 0.97513371],\n",
       "       [-1.12973354],\n",
       "       [ 0.12040813],\n",
       "       [ 0.28026168],\n",
       "       [-1.89087327],\n",
       "       [ 2.81750777],\n",
       "       [ 1.65079694],\n",
       "       [ 2.63699365],\n",
       "       [ 2.3689641 ],\n",
       "       [ 0.58739987],\n",
       "       [ 2.53124541],\n",
       "       [-2.46904499],\n",
       "       [-1.82410283],\n",
       "       [-2.72863627],\n",
       "       [-1.04801802]])"
      ]
     },
     "execution_count": 51,
     "metadata": {},
     "output_type": "execute_result"
    }
   ],
   "source": [
    "X"
   ]
  },
  {
   "cell_type": "code",
   "execution_count": 52,
   "metadata": {},
   "outputs": [
    {
     "data": {
      "text/plain": [
       "array([0.4548843])"
      ]
     },
     "execution_count": 52,
     "metadata": {},
     "output_type": "execute_result"
    }
   ],
   "source": [
    "lr.coef_"
   ]
  },
  {
   "cell_type": "code",
   "execution_count": 53,
   "metadata": {},
   "outputs": [
    {
     "data": {
      "text/plain": [
       "-0.06621850388598466"
      ]
     },
     "execution_count": 53,
     "metadata": {},
     "output_type": "execute_result"
    }
   ],
   "source": [
    "lr.intercept_"
   ]
  },
  {
   "cell_type": "markdown",
   "metadata": {},
   "source": [
    "# 가중치 조정!!"
   ]
  },
  {
   "cell_type": "code",
   "execution_count": 59,
   "metadata": {},
   "outputs": [],
   "source": [
    "X, y = mglearn.datasets.load_extended_boston()\n",
    "\n",
    "X_train, X_test, y_train, y_test = train_test_split(X, y, random_state=0)\n",
    "lr = LinearRegression().fit(X_train, y_train)"
   ]
  },
  {
   "cell_type": "code",
   "execution_count": 61,
   "metadata": {},
   "outputs": [
    {
     "name": "stdout",
     "output_type": "stream",
     "text": [
      "훈련 세트 점수: 0.95\n",
      "테스트 세트 점수: 0.61\n"
     ]
    }
   ],
   "source": [
    "#훈련데이터와 테스트데이터를 비교하는 이유 : 오버피팅 확인  ~ 테스트점수가 제일 중요!\n",
    "#피팅레이트 / Accuracy\n",
    "print(\"훈련 세트 점수: {:.2f}\".format(lr.score(X_train, y_train)))   #train으로 확인한 결정계수 \n",
    "print(\"테스트 세트 점수: {:.2f}\".format(lr.score(X_test, y_test)))  #test으로 확인한 결정계수"
   ]
  },
  {
   "cell_type": "code",
   "execution_count": 68,
   "metadata": {},
   "outputs": [
    {
     "name": "stdout",
     "output_type": "stream",
     "text": [
      "훈련 세트 점수: 0.89\n",
      "테스트 세트 점수: 0.75\n"
     ]
    }
   ],
   "source": [
    "from sklearn.linear_model import Ridge\n",
    "\n",
    "ridge = Ridge().fit(X_train, y_train)\n",
    "print(\"훈련 세트 점수: {:.2f}\".format(ridge.score(X_train, y_train)))\n",
    "print(\"테스트 세트 점수: {:.2f}\".format(ridge.score(X_test, y_test)))"
   ]
  },
  {
   "cell_type": "code",
   "execution_count": 66,
   "metadata": {},
   "outputs": [
    {
     "name": "stdout",
     "output_type": "stream",
     "text": [
      "훈련 세트 점수: 0.79\n",
      "테스트 세트 점수: 0.64\n"
     ]
    }
   ],
   "source": [
    "#디폴트 : 1 \n",
    "#알파가 너무 크면 w가 너무 작아서 학습이 떨어지는 언더피팅이 일어날 수 있다. (!= 오버피팅)\n",
    "ridge10 = Ridge(alpha=10).fit(X_train, y_train)\n",
    "print(\"훈련 세트 점수: {:.2f}\".format(ridge10.score(X_train, y_train)))\n",
    "print(\"테스트 세트 점수: {:.2f}\".format(ridge10.score(X_test, y_test)))"
   ]
  },
  {
   "cell_type": "code",
   "execution_count": 69,
   "metadata": {
    "scrolled": false
   },
   "outputs": [
    {
     "name": "stdout",
     "output_type": "stream",
     "text": [
      "훈련 세트 점수: 0.93\n",
      "테스트 세트 점수: 0.77\n"
     ]
    }
   ],
   "source": [
    "ridge01 = Ridge(alpha=0.1).fit(X_train, y_train)\n",
    "print(\"훈련 세트 점수: {:.2f}\".format(ridge01.score(X_train, y_train)))\n",
    "print(\"테스트 세트 점수: {:.2f}\".format(ridge01.score(X_test, y_test)))   #채택!!"
   ]
  },
  {
   "cell_type": "code",
   "execution_count": 70,
   "metadata": {},
   "outputs": [],
   "source": [
    "# 어큐러시 채택하고 나서 precision recall을 확인하는 것 "
   ]
  },
  {
   "cell_type": "markdown",
   "metadata": {},
   "source": [
    "# L1 규제"
   ]
  },
  {
   "cell_type": "code",
   "execution_count": null,
   "metadata": {},
   "outputs": [],
   "source": [
    "from sklearn.linear_model import Lasso\n",
    "\n",
    "lasso = Lasso().fit(X_train, y_train)\n",
    "print(\"훈련 세트 점수: {:.2f}\".format(lasso.score(X_train, y_train)))\n",
    "print(\"테스트 세트 점수: {:.2f}\".format(lasso.score(X_test, y_test)))\n",
    "print(\"사용한 특성의 개수:\", np.sum(lasso.coef_ != 0))"
   ]
  },
  {
   "cell_type": "code",
   "execution_count": null,
   "metadata": {},
   "outputs": [],
   "source": [
    "# \"max_iter\" 기본 값을 증가시키지 않으면 max_iter 값을 늘이라는 경고가 발생합니다\n",
    "lasso001 = Lasso(alpha=0.01, max_iter=100000).fit(X_train, y_train)\n",
    "print(\"훈련 세트 점수: {:.2f}\".format(lasso001.score(X_train, y_train)))\n",
    "print(\"테스트 세트 점수: {:.2f}\".format(lasso001.score(X_test, y_test)))\n",
    "print(\"사용한 특성의 개수:\", np.sum(lasso001.coef_ != 0))"
   ]
  },
  {
   "cell_type": "markdown",
   "metadata": {},
   "source": [
    "# 분류모델 : ~ 로지스틱"
   ]
  },
  {
   "cell_type": "code",
   "execution_count": 93,
   "metadata": {
    "scrolled": true
   },
   "outputs": [
    {
     "name": "stderr",
     "output_type": "stream",
     "text": [
      "C:\\Users\\student\\Anaconda3\\lib\\site-packages\\sklearn\\svm\\base.py:929: ConvergenceWarning: Liblinear failed to converge, increase the number of iterations.\n",
      "  \"the number of iterations.\", ConvergenceWarning)\n",
      "C:\\Users\\student\\Anaconda3\\lib\\site-packages\\sklearn\\linear_model\\logistic.py:432: FutureWarning: Default solver will be changed to 'lbfgs' in 0.22. Specify a solver to silence this warning.\n",
      "  FutureWarning)\n"
     ]
    },
    {
     "data": {
      "text/plain": [
       "'\\nSVM은 가장 마진이 넓은 길로 분류\\n로지스틱은 잔차가 최소가 되기 분류!!  그래프로 차이를 보기!\\n'"
      ]
     },
     "execution_count": 93,
     "metadata": {},
     "output_type": "execute_result"
    },
    {
     "name": "stderr",
     "output_type": "stream",
     "text": [
      "findfont: Font family ['HYPost'] not found. Falling back to DejaVu Sans.\n",
      "C:\\Users\\student\\Anaconda3\\lib\\site-packages\\matplotlib\\backends\\backend_agg.py:211: RuntimeWarning: Glyph 53945 missing from current font.\n",
      "  font.set_text(s, 0.0, flags=flags)\n",
      "C:\\Users\\student\\Anaconda3\\lib\\site-packages\\matplotlib\\backends\\backend_agg.py:211: RuntimeWarning: Glyph 49457 missing from current font.\n",
      "  font.set_text(s, 0.0, flags=flags)\n",
      "C:\\Users\\student\\Anaconda3\\lib\\site-packages\\matplotlib\\backends\\backend_agg.py:180: RuntimeWarning: Glyph 53945 missing from current font.\n",
      "  font.set_text(s, 0, flags=flags)\n",
      "C:\\Users\\student\\Anaconda3\\lib\\site-packages\\matplotlib\\backends\\backend_agg.py:180: RuntimeWarning: Glyph 49457 missing from current font.\n",
      "  font.set_text(s, 0, flags=flags)\n"
     ]
    },
    {
     "data": {
      "image/png": "[encoded data removed]",
      "text/plain": [
       "<Figure size 720x216 with 2 Axes>"
      ]
     },
     "metadata": {},
     "output_type": "display_data"
    }
   ],
   "source": [
    "from sklearn.linear_model import LogisticRegression\n",
    "from sklearn.svm import LinearSVC  #선형적인 모형으로만 찾는 SVM ~ 커널함수 적용하지 않는다.(SVC, SVR)\n",
    "\n",
    "X, y = mglearn.datasets.make_forge()   #샘플데이터 뽑아주는 애 아까 make.wave()랑 비슷\n",
    "                                        #단 forge()는 y값을 범주형으로 추출한다.\n",
    "\n",
    "fig, axes = plt.subplots(1, 2, figsize=(10, 3))  #plot에서 subplot 만들기  1행 2열로 \n",
    "\n",
    "for model, ax in zip([LinearSVC(), LogisticRegression()], axes):\n",
    "    clf = model.fit(X, y)\n",
    "    mglearn.plots.plot_2d_separator(clf, X, fill=False, eps=0.5,      #eps여백, alpha : 투명도 \n",
    "                                    ax=ax, alpha=.7)\n",
    "    mglearn.discrete_scatter(X[:, 0], X[:, 1], y, ax=ax)   #scatter : 산점도  xcnr\n",
    "    ax.set_title(clf.__class__.__name__)\n",
    "    ax.set_xlabel(\"특성 0\")\n",
    "    ax.set_ylabel(\"특성 1\")\n",
    "axes[0].legend()\n",
    "\n",
    "\n",
    "'''\n",
    "SVM은 가장 마진이 넓은 길로 분류\n",
    "로지스틱은 잔차가 최소가 되기 분류!!  그래프로 차이를 보기!\n",
    "'''"
   ]
  },
  {
   "cell_type": "code",
   "execution_count": 75,
   "metadata": {},
   "outputs": [
    {
     "data": {
      "text/plain": [
       "array([[ 9.96346605,  4.59676542],\n",
       "       [11.0329545 , -0.16816717],\n",
       "       [11.54155807,  5.21116083],\n",
       "       [ 8.69289001,  1.54322016],\n",
       "       [ 8.1062269 ,  4.28695977],\n",
       "       [ 8.30988863,  4.80623966],\n",
       "       [11.93027136,  4.64866327],\n",
       "       [ 9.67284681, -0.20283165],\n",
       "       [ 8.34810316,  5.13415623],\n",
       "       [ 8.67494727,  4.47573059],\n",
       "       [ 9.17748385,  5.09283177],\n",
       "       [10.24028948,  2.45544401],\n",
       "       [ 8.68937095,  1.48709629],\n",
       "       [ 8.92229526, -0.63993225],\n",
       "       [ 9.49123469,  4.33224792],\n",
       "       [ 9.25694192,  5.13284858],\n",
       "       [ 7.99815287,  4.8525051 ],\n",
       "       [ 8.18378052,  1.29564214],\n",
       "       [ 8.7337095 ,  2.49162431],\n",
       "       [ 9.32298256,  5.09840649],\n",
       "       [10.06393839,  0.99078055],\n",
       "       [ 9.50048972, -0.26430318],\n",
       "       [ 8.34468785,  1.63824349],\n",
       "       [ 9.50169345,  1.93824624],\n",
       "       [ 9.15072323,  5.49832246],\n",
       "       [11.563957  ,  1.3389402 ]])"
      ]
     },
     "execution_count": 75,
     "metadata": {},
     "output_type": "execute_result"
    }
   ],
   "source": [
    "X"
   ]
  },
  {
   "cell_type": "code",
   "execution_count": 76,
   "metadata": {},
   "outputs": [
    {
     "data": {
      "text/plain": [
       "array([1, 0, 1, 0, 0, 1, 1, 0, 1, 1, 1, 1, 0, 0, 1, 1, 1, 0, 0, 1, 0, 0,\n",
       "       0, 0, 1, 0])"
      ]
     },
     "execution_count": 76,
     "metadata": {},
     "output_type": "execute_result"
    }
   ],
   "source": [
    "y  #y값 이진분류 확인"
   ]
  },
  {
   "cell_type": "code",
   "execution_count": 77,
   "metadata": {
    "scrolled": true
   },
   "outputs": [
    {
     "data": {
      "text/plain": [
       "array([<matplotlib.axes._subplots.AxesSubplot object at 0x0000018651BD4708>,\n",
       "       <matplotlib.axes._subplots.AxesSubplot object at 0x0000018651FF4A48>],\n",
       "      dtype=object)"
      ]
     },
     "execution_count": 77,
     "metadata": {},
     "output_type": "execute_result"
    }
   ],
   "source": [
    "axes"
   ]
  },
  {
   "cell_type": "code",
   "execution_count": null,
   "metadata": {},
   "outputs": [],
   "source": [
    "import matplotlib.font_manager as fm\n",
    "font_file_path_list = fm.findSystemFonts(fontpaths=None, fontext='ttf')\n",
    "print(len(font_file_path_list))\n",
    "#print(font_file_path_list[:5]) #복잡하고 길게 나오는 군요 \n",
    "\n",
    "fav_font_file_path_lst = filter(lambda x: True if \"BM\" in x or \"SDM\" in x else False\n",
    "                                , font_file_path_list)\n",
    "print()\n",
    "for font_file_path in fav_font_file_path_lst:\n",
    "    print(font_file_path)"
   ]
  },
  {
   "cell_type": "code",
   "execution_count": 112,
   "metadata": {},
   "outputs": [
    {
     "name": "stdout",
     "output_type": "stream",
     "text": [
      "['C:\\\\Windows\\\\Fonts\\\\calibriz.ttf', 'C:\\\\Windows\\\\Fonts\\\\NirmalaB.ttf', 'C:\\\\Windows\\\\Fonts\\\\HMKMRHD.TTF', 'C:\\\\Windows\\\\Fonts\\\\courbd.ttf', 'C:\\\\Windows\\\\Fonts\\\\H2HDRM.TTF', 'C:\\\\Windows\\\\Fonts\\\\BELLB.TTF', 'C:\\\\Windows\\\\Fonts\\\\GOUDOSI.TTF', 'C:\\\\Windows\\\\Fonts\\\\LeelawUI.ttf', 'C:\\\\Windows\\\\Fonts\\\\georgiai.ttf', 'C:\\\\Windows\\\\Fonts\\\\timesbi.ttf', 'C:\\\\Windows\\\\Fonts\\\\ITCKRIST.TTF', 'C:\\\\Windows\\\\Fonts\\\\Inkfree.ttf', 'C:\\\\Windows\\\\Fonts\\\\seguiemj.ttf', 'C:\\\\Windows\\\\Fonts\\\\mvboli.ttf', 'C:\\\\Windows\\\\Fonts\\\\WINGDNG2.TTF', 'C:\\\\Windows\\\\Fonts\\\\BASKVILL.TTF', 'C:\\\\Windows\\\\Fonts\\\\msyhbd.ttc', 'C:\\\\Windows\\\\Fonts\\\\SCHLBKBI.TTF', 'C:\\\\Windows\\\\Fonts\\\\H2SA1M.TTF', 'C:\\\\Windows\\\\Fonts\\\\timesi.ttf', 'C:\\\\Windows\\\\Fonts\\\\BSSYM7.TTF', 'C:\\\\Windows\\\\Fonts\\\\BRLNSR.TTF', 'C:\\\\Windows\\\\Fonts\\\\micross.ttf', 'C:\\\\Windows\\\\Fonts\\\\GILSANUB.TTF', 'C:\\\\Windows\\\\Fonts\\\\BOOKOS.TTF', 'C:\\\\Windows\\\\Fonts\\\\FRSCRIPT.TTF', 'C:\\\\Windows\\\\Fonts\\\\PERBI___.TTF', 'C:\\\\Windows\\\\Fonts\\\\YuGothB.ttc', 'C:\\\\Windows\\\\Fonts\\\\CENTURY.TTF', 'C:\\\\Windows\\\\Fonts\\\\WINGDNG3.TTF', 'C:\\\\Windows\\\\Fonts\\\\batang.ttc', 'C:\\\\Windows\\\\Fonts\\\\GILLUBCD.TTF', 'C:\\\\Windows\\\\Fonts\\\\LTYPEBO.TTF', 'C:\\\\Windows\\\\Fonts\\\\H2GPRM.TTF', 'C:\\\\Windows\\\\Fonts\\\\corbelli.ttf', 'C:\\\\Windows\\\\Fonts\\\\GILI____.TTF', 'C:\\\\Program Files (x86)\\\\Common Files\\\\Microsoft Shared\\\\EQUATION\\\\MTEXTRA.TTF', 'C:\\\\Windows\\\\Fonts\\\\segoescb.ttf', 'C:\\\\Windows\\\\Fonts\\\\holomdl2.ttf', 'C:\\\\Windows\\\\Fonts\\\\MSUIGHUB.TTF', 'C:\\\\Windows\\\\Fonts\\\\taileb.ttf', 'C:\\\\Windows\\\\Fonts\\\\msjhbd.ttc', 'C:\\\\Windows\\\\Fonts\\\\palabi.ttf', 'C:\\\\Windows\\\\Fonts\\\\segoeuisl.ttf', 'C:\\\\Windows\\\\Fonts\\\\VINERITC.TTF', 'C:\\\\Windows\\\\Fonts\\\\TCCB____.TTF', 'C:\\\\Windows\\\\Fonts\\\\BOD_BLAR.TTF', 'C:\\\\Windows\\\\Fonts\\\\HMFMPYUN.TTF', 'C:\\\\Windows\\\\Fonts\\\\georgiaz.ttf', 'C:\\\\Windows\\\\Fonts\\\\BOD_I.TTF', 'C:\\\\Windows\\\\Fonts\\\\ITCEDSCR.TTF', 'C:\\\\Windows\\\\Fonts\\\\ARIALUNI.TTF', 'C:\\\\Windows\\\\Fonts\\\\Candaral.ttf', 'C:\\\\Windows\\\\Fonts\\\\SCHLBKB.TTF', 'C:\\\\Windows\\\\Fonts\\\\comicz.ttf', 'C:\\\\Windows\\\\Fonts\\\\HMKMAMI.TTF', 'C:\\\\Windows\\\\Fonts\\\\CALIFR.TTF', 'C:\\\\Windows\\\\Fonts\\\\NGULIM.TTF', 'C:\\\\Windows\\\\Fonts\\\\ERASLGHT.TTF', 'C:\\\\Windows\\\\Fonts\\\\arialbd.ttf', 'C:\\\\Windows\\\\Fonts\\\\msjhl.ttc', 'C:\\\\Windows\\\\Fonts\\\\georgia.ttf', 'C:\\\\Windows\\\\Fonts\\\\CENSCBK.TTF', 'C:\\\\Windows\\\\Fonts\\\\BELL.TTF', 'C:\\\\Windows\\\\Fonts\\\\ARLRDBD.TTF', 'C:\\\\Windows\\\\Fonts\\\\webdings.ttf', 'C:\\\\Windows\\\\Fonts\\\\CALIFB.TTF', 'C:\\\\Windows\\\\Fonts\\\\GOTHIC.TTF', 'C:\\\\Windows\\\\Fonts\\\\GILB____.TTF', 'C:\\\\Windows\\\\Fonts\\\\constan.ttf', 'C:\\\\Windows\\\\Fonts\\\\BOD_B.TTF', 'C:\\\\Windows\\\\Fonts\\\\wingding.ttf', 'C:\\\\Windows\\\\Fonts\\\\ntailub.ttf', 'C:\\\\Windows\\\\Fonts\\\\BROADW.TTF', 'C:\\\\Windows\\\\Fonts\\\\malgunbd.ttf', 'C:\\\\Windows\\\\Fonts\\\\MSUIGHUR.TTF', 'C:\\\\Windows\\\\Fonts\\\\verdanaz.ttf', 'C:\\\\Windows\\\\Fonts\\\\VIVALDII.TTF', 'C:\\\\Windows\\\\Fonts\\\\msgothic.ttc', 'C:\\\\Windows\\\\Fonts\\\\LEELAWAD.TTF', 'C:\\\\Windows\\\\Fonts\\\\CALISTBI.TTF', 'C:\\\\Windows\\\\Fonts\\\\corbell.ttf', 'C:\\\\Windows\\\\Fonts\\\\LBRITEDI.TTF', 'C:\\\\Windows\\\\Fonts\\\\BOOKOSBI.TTF', 'C:\\\\Windows\\\\Fonts\\\\PERTIBD.TTF', 'C:\\\\Windows\\\\Fonts\\\\LeelaUIb.ttf', 'C:\\\\Windows\\\\Fonts\\\\GILC____.TTF', 'C:\\\\Windows\\\\Fonts\\\\timesbd.ttf', 'C:\\\\Windows\\\\Fonts\\\\msyh.ttc', 'C:\\\\Windows\\\\Fonts\\\\REFSPCL.TTF', 'C:\\\\Windows\\\\Fonts\\\\TEMPSITC.TTF', 'C:\\\\Windows\\\\Fonts\\\\RAGE.TTF', 'C:\\\\Windows\\\\Fonts\\\\ANTQUAI.TTF', 'C:\\\\Windows\\\\Fonts\\\\FRABKIT.TTF', 'C:\\\\Windows\\\\Fonts\\\\FRADMIT.TTF', 'C:\\\\Windows\\\\Fonts\\\\tahoma.ttf', 'C:\\\\Windows\\\\Fonts\\\\ROCKEB.TTF', 'C:\\\\Windows\\\\Fonts\\\\LEELAWDB.TTF', 'C:\\\\Windows\\\\Fonts\\\\LSANSI.TTF', 'C:\\\\Windows\\\\Fonts\\\\verdana.ttf', 'C:\\\\Windows\\\\Fonts\\\\segoeuib.ttf', 'C:\\\\Windows\\\\Fonts\\\\constanz.ttf', 'C:\\\\Windows\\\\Fonts\\\\trebucbd.ttf', 'C:\\\\Windows\\\\Fonts\\\\seguisli.ttf', 'C:\\\\Windows\\\\Fonts\\\\phagspab.ttf', 'C:\\\\Windows\\\\Fonts\\\\framd.ttf', 'C:\\\\Windows\\\\Fonts\\\\ERASDEMI.TTF', 'C:\\\\Windows\\\\Fonts\\\\CALISTI.TTF', 'C:\\\\Windows\\\\Fonts\\\\FRADM.TTF', 'C:\\\\Windows\\\\Fonts\\\\ebrimabd.ttf', 'C:\\\\Windows\\\\Fonts\\\\arial.ttf', 'C:\\\\Windows\\\\Fonts\\\\BOD_BI.TTF', 'C:\\\\Windows\\\\Fonts\\\\STENCIL.TTF', 'C:\\\\Windows\\\\Fonts\\\\SCRIPTBL.TTF', 'C:\\\\Windows\\\\Fonts\\\\REFSAN.TTF', 'C:\\\\Windows\\\\Fonts\\\\consola.ttf', 'C:\\\\Windows\\\\Fonts\\\\segoeuiz.ttf', 'C:\\\\Windows\\\\Fonts\\\\calibrii.ttf', 'C:\\\\Windows\\\\Fonts\\\\GOTHICBI.TTF', 'C:\\\\Windows\\\\Fonts\\\\POORICH.TTF', 'C:\\\\Windows\\\\Fonts\\\\ERASMD.TTF', 'C:\\\\Windows\\\\Fonts\\\\GOTHICI.TTF', 'C:\\\\Windows\\\\Fonts\\\\seguibli.ttf', 'C:\\\\Windows\\\\Fonts\\\\l_10646.ttf', 'C:\\\\Windows\\\\Fonts\\\\bahnschrift.ttf', 'C:\\\\Windows\\\\Fonts\\\\GIL_____.TTF', 'C:\\\\Windows\\\\Fonts\\\\courbi.ttf', 'C:\\\\Windows\\\\Fonts\\\\CALIST.TTF', 'C:\\\\Windows\\\\Fonts\\\\simsun.ttc', 'C:\\\\Windows\\\\Fonts\\\\OCRAEXT.TTF', 'C:\\\\Windows\\\\Fonts\\\\BKANT.TTF', 'C:\\\\Windows\\\\Fonts\\\\FRADMCN.TTF', 'C:\\\\Windows\\\\Fonts\\\\cambriab.ttf', 'C:\\\\Windows\\\\Fonts\\\\ARIALN.TTF', 'C:\\\\Windows\\\\Fonts\\\\LSANSD.TTF', 'C:\\\\Windows\\\\Fonts\\\\calibrib.ttf', 'C:\\\\Windows\\\\Fonts\\\\trebucbi.ttf', 'C:\\\\Windows\\\\Fonts\\\\MAIAN.TTF', 'C:\\\\Windows\\\\Fonts\\\\seguisb.ttf', 'C:\\\\Windows\\\\Fonts\\\\GOUDYSTO.TTF', 'C:\\\\Windows\\\\Fonts\\\\LFAXDI.TTF', 'C:\\\\Windows\\\\Fonts\\\\RAVIE.TTF', 'C:\\\\Windows\\\\Fonts\\\\himalaya.ttf', 'C:\\\\Windows\\\\Fonts\\\\SitkaZ.ttc', 'C:\\\\Windows\\\\Fonts\\\\Nirmala.ttf', 'C:\\\\Windows\\\\Fonts\\\\HMFMOLD.TTF', 'C:\\\\Windows\\\\Fonts\\\\LSANSDI.TTF', 'C:\\\\Windows\\\\Fonts\\\\segoeprb.ttf', 'C:\\\\Windows\\\\Fonts\\\\COPRGTL.TTF', 'C:\\\\Windows\\\\Fonts\\\\BOD_R.TTF', 'C:\\\\Windows\\\\Fonts\\\\phagspa.ttf', 'C:\\\\Windows\\\\Fonts\\\\LBRITED.TTF', 'C:\\\\Windows\\\\Fonts\\\\MAGNETOB.TTF', 'C:\\\\Windows\\\\Fonts\\\\TCM_____.TTF', 'C:\\\\Windows\\\\Fonts\\\\tahomabd.ttf', 'C:\\\\Windows\\\\Fonts\\\\mingliub.ttc', 'C:\\\\Windows\\\\Fonts\\\\consolab.ttf', 'C:\\\\Windows\\\\Fonts\\\\H2MJRE.TTF', 'C:\\\\Windows\\\\Fonts\\\\OLDENGL.TTF', 'C:\\\\Windows\\\\Fonts\\\\VLADIMIR.TTF', 'C:\\\\Windows\\\\Fonts\\\\cambriai.ttf', 'C:\\\\Windows\\\\Fonts\\\\PERB____.TTF', 'C:\\\\Windows\\\\Fonts\\\\symbol.ttf', 'C:\\\\Windows\\\\Fonts\\\\BRITANIC.TTF', 'C:\\\\Windows\\\\Fonts\\\\couri.ttf', 'C:\\\\Windows\\\\Fonts\\\\ARIALNB.TTF', 'C:\\\\Windows\\\\Fonts\\\\impact.ttf', 'C:\\\\Windows\\\\Fonts\\\\AGENCYB.TTF', 'C:\\\\Windows\\\\Fonts\\\\GOUDOS.TTF', 'C:\\\\Windows\\\\Fonts\\\\MATURASC.TTF', 'C:\\\\Windows\\\\Fonts\\\\GARAIT.TTF', 'C:\\\\Windows\\\\Fonts\\\\INFROMAN.TTF', 'C:\\\\Windows\\\\Fonts\\\\FRABK.TTF', 'C:\\\\Windows\\\\Fonts\\\\FTLTLT.TTF', 'C:\\\\Windows\\\\Fonts\\\\ROCKBI.TTF', 'C:\\\\Windows\\\\Fonts\\\\corbelz.ttf', 'C:\\\\Windows\\\\Fonts\\\\H2GSRB.TTF', 'C:\\\\Windows\\\\Fonts\\\\calibrili.ttf', 'C:\\\\Windows\\\\Fonts\\\\TCCEB.TTF', 'C:\\\\Windows\\\\Fonts\\\\NIAGENG.TTF', 'C:\\\\Windows\\\\Fonts\\\\pala.ttf', 'C:\\\\Windows\\\\Fonts\\\\CALIFI.TTF', 'C:\\\\Windows\\\\Fonts\\\\H2GTRE.TTF', 'C:\\\\Windows\\\\Fonts\\\\PALSCRI.TTF', 'C:\\\\Windows\\\\Fonts\\\\SitkaI.ttc', 'C:\\\\Windows\\\\Fonts\\\\gadugib.ttf', 'C:\\\\Windows\\\\Fonts\\\\times.ttf', 'C:\\\\Windows\\\\Fonts\\\\LHANDW.TTF', 'C:\\\\Windows\\\\Fonts\\\\marlett.ttf', 'C:\\\\Windows\\\\Fonts\\\\NIAGSOL.TTF', 'C:\\\\Windows\\\\Fonts\\\\FRAHVIT.TTF', 'C:\\\\Windows\\\\Fonts\\\\Sitka.ttc', 'C:\\\\Windows\\\\Fonts\\\\PLAYBILL.TTF', 'C:\\\\Windows\\\\Fonts\\\\JOKERMAN.TTF', 'C:\\\\Windows\\\\Fonts\\\\GOUDOSB.TTF', 'C:\\\\Windows\\\\Fonts\\\\GOTHICB.TTF', 'C:\\\\Windows\\\\Fonts\\\\LSANS.TTF', 'C:\\\\Windows\\\\Fonts\\\\corbel.ttf', 'C:\\\\Windows\\\\Fonts\\\\SitkaB.ttc', 'C:\\\\Windows\\\\Fonts\\\\CENTAUR.TTF', 'C:\\\\Windows\\\\Fonts\\\\H2MJSM.TTF', 'C:\\\\Windows\\\\Fonts\\\\georgiab.ttf', 'C:\\\\Windows\\\\Fonts\\\\ntailu.ttf', 'C:\\\\Windows\\\\Fonts\\\\malgunsl.ttf', 'C:\\\\Windows\\\\Fonts\\\\seguihis.ttf', 'C:\\\\Windows\\\\Fonts\\\\PRISTINA.TTF', 'C:\\\\Windows\\\\Fonts\\\\Candarali.ttf', 'C:\\\\Windows\\\\Fonts\\\\ROCKI.TTF', 'C:\\\\Windows\\\\Fonts\\\\COLONNA.TTF', 'C:\\\\Users\\\\student\\\\AppData\\\\Local\\\\Microsoft\\\\Windows\\\\Fonts\\\\훈떡볶이R.ttf', 'C:\\\\Windows\\\\Fonts\\\\BELLI.TTF', 'C:\\\\Windows\\\\Fonts\\\\CASTELAR.TTF', 'C:\\\\Windows\\\\Fonts\\\\COOPBL.TTF', 'C:\\\\Windows\\\\Fonts\\\\seguisbi.ttf', 'C:\\\\Windows\\\\Fonts\\\\GARABD.TTF', 'C:\\\\Windows\\\\Fonts\\\\Candaraz.ttf', 'C:\\\\Windows\\\\Fonts\\\\SCHLBKI.TTF', 'C:\\\\Windows\\\\Fonts\\\\mmrtext.ttf', 'C:\\\\Windows\\\\Fonts\\\\KUNSTLER.TTF', 'C:\\\\Windows\\\\Fonts\\\\CURLZ___.TTF', 'C:\\\\Windows\\\\Fonts\\\\ROCCB___.TTF', 'C:\\\\Windows\\\\Fonts\\\\arialbi.ttf', 'C:\\\\Windows\\\\Fonts\\\\ROCK.TTF', 'C:\\\\Windows\\\\Fonts\\\\LTYPEB.TTF', 'C:\\\\Windows\\\\Fonts\\\\malgun.ttf', 'C:\\\\Windows\\\\Fonts\\\\ROCC____.TTF', 'C:\\\\Windows\\\\Fonts\\\\corbelb.ttf', 'C:\\\\Windows\\\\Fonts\\\\comic.ttf', 'C:\\\\Windows\\\\Fonts\\\\BOOKOSI.TTF', 'C:\\\\Windows\\\\Fonts\\\\FELIXTI.TTF', 'C:\\\\Windows\\\\Fonts\\\\YuGothL.ttc', 'C:\\\\Windows\\\\Fonts\\\\ELEPHNTI.TTF', 'C:\\\\Windows\\\\Fonts\\\\HARLOWSI.TTF', 'C:\\\\Windows\\\\Fonts\\\\MTCORSVA.TTF', 'C:\\\\Windows\\\\Fonts\\\\consolaz.ttf', 'C:\\\\Windows\\\\Fonts\\\\HMFMMUEX.TTC', 'C:\\\\Windows\\\\Fonts\\\\ariblk.ttf', 'C:\\\\Windows\\\\Fonts\\\\PARCHM.TTF', 'C:\\\\Windows\\\\Fonts\\\\LFAXI.TTF', 'C:\\\\Windows\\\\Fonts\\\\constani.ttf', 'C:\\\\Windows\\\\Fonts\\\\PERTILI.TTF', 'C:\\\\Windows\\\\Fonts\\\\GARA.TTF', 'C:\\\\Windows\\\\Fonts\\\\Candarab.ttf', 'C:\\\\Windows\\\\Fonts\\\\CHILLER.TTF', 'C:\\\\Windows\\\\Fonts\\\\H2PORM.TTF', 'C:\\\\Windows\\\\Fonts\\\\FRAMDCN.TTF', 'C:\\\\Windows\\\\Fonts\\\\COPRGTB.TTF', 'C:\\\\Windows\\\\Fonts\\\\simsunb.ttf', 'C:\\\\Windows\\\\Fonts\\\\BOD_BLAI.TTF', 'C:\\\\Windows\\\\Fonts\\\\SNAP____.TTF', 'C:\\\\Windows\\\\Fonts\\\\cambria.ttc', 'C:\\\\Windows\\\\Fonts\\\\GLSNECB.TTF', 'C:\\\\Windows\\\\Fonts\\\\verdanai.ttf', 'C:\\\\Windows\\\\Fonts\\\\FORTE.TTF', 'C:\\\\Windows\\\\Fonts\\\\CALISTB.TTF', 'C:\\\\Windows\\\\Fonts\\\\sylfaen.ttf', 'C:\\\\Windows\\\\Fonts\\\\BAUHS93.TTF', 'C:\\\\Windows\\\\Fonts\\\\GILBI___.TTF', 'C:\\\\Windows\\\\Fonts\\\\Candara.ttf', 'C:\\\\Windows\\\\Fonts\\\\segoeuil.ttf', 'C:\\\\Windows\\\\Fonts\\\\MISTRAL.TTF', 'C:\\\\Windows\\\\Fonts\\\\ANTQUABI.TTF', 'C:\\\\Windows\\\\Fonts\\\\BOOKOSB.TTF', 'C:\\\\Windows\\\\Fonts\\\\HTOWERT.TTF', 'C:\\\\Windows\\\\Fonts\\\\verdanab.ttf', 'C:\\\\Windows\\\\Fonts\\\\H2MKPB.TTF', 'C:\\\\Windows\\\\Fonts\\\\msjh.ttc', 'C:\\\\Windows\\\\Fonts\\\\ebrima.ttf', 'C:\\\\Windows\\\\Fonts\\\\mmrtextb.ttf', 'C:\\\\Windows\\\\Fonts\\\\HYHWPEQ.TTF', 'C:\\\\Windows\\\\Fonts\\\\PER_____.TTF', 'C:\\\\Windows\\\\Fonts\\\\msyhl.ttc', 'C:\\\\Windows\\\\Fonts\\\\HATTEN.TTF', 'C:\\\\Windows\\\\Fonts\\\\HMKMMAG.TTF', 'C:\\\\Windows\\\\Fonts\\\\IMPRISHA.TTF', 'C:\\\\Windows\\\\Fonts\\\\GLECB.TTF', 'C:\\\\Windows\\\\Fonts\\\\JUICE___.TTF', 'C:\\\\Windows\\\\Fonts\\\\TCBI____.TTF', 'C:\\\\Windows\\\\Fonts\\\\monbaiti.ttf', 'C:\\\\Windows\\\\Fonts\\\\segoeuii.ttf', 'C:\\\\Windows\\\\Fonts\\\\gulim.ttc', 'C:\\\\Windows\\\\Fonts\\\\TCB_____.TTF', 'C:\\\\Windows\\\\Fonts\\\\comicbd.ttf', 'C:\\\\Windows\\\\Fonts\\\\H2GTRM.TTF', 'C:\\\\Windows\\\\Fonts\\\\palab.ttf', 'C:\\\\Windows\\\\Fonts\\\\PAPYRUS.TTF', 'C:\\\\Windows\\\\Fonts\\\\LFAX.TTF', 'C:\\\\Windows\\\\Fonts\\\\ERASBD.TTF', 'C:\\\\Windows\\\\Fonts\\\\LBRITE.TTF', 'C:\\\\Windows\\\\Fonts\\\\LeelUIsl.ttf', 'C:\\\\Windows\\\\Fonts\\\\consolai.ttf', 'C:\\\\Windows\\\\Fonts\\\\BOD_CBI.TTF', 'C:\\\\Windows\\\\Fonts\\\\seguili.ttf', 'C:\\\\Windows\\\\Fonts\\\\segmdl2.ttf', 'C:\\\\Windows\\\\Fonts\\\\LFAXD.TTF', 'C:\\\\Windows\\\\Fonts\\\\LBRITEI.TTF', 'C:\\\\Windows\\\\Fonts\\\\ARIALNBI.TTF', 'C:\\\\Windows\\\\Fonts\\\\ONYX.TTF', 'C:\\\\Windows\\\\Fonts\\\\SHOWG.TTF', 'C:\\\\Windows\\\\Fonts\\\\trebucit.ttf', 'C:\\\\Windows\\\\Fonts\\\\HTOWERTI.TTF', 'C:\\\\Windows\\\\Fonts\\\\calibri.ttf', 'C:\\\\Windows\\\\Fonts\\\\ALGER.TTF', 'C:\\\\Windows\\\\Fonts\\\\segoesc.ttf', 'C:\\\\Windows\\\\Fonts\\\\HARNGTON.TTF', 'C:\\\\Windows\\\\Fonts\\\\TCMI____.TTF', 'C:\\\\Windows\\\\Fonts\\\\ANTQUAB.TTF', 'C:\\\\Windows\\\\Fonts\\\\TCCM____.TTF', 'C:\\\\Windows\\\\Fonts\\\\BRLNSDB.TTF', 'C:\\\\Windows\\\\Fonts\\\\ENGR.TTF', 'C:\\\\Windows\\\\Fonts\\\\taile.ttf', 'C:\\\\Windows\\\\Fonts\\\\NirmalaS.ttf', 'C:\\\\Windows\\\\Fonts\\\\MOD20.TTF', 'C:\\\\Windows\\\\Fonts\\\\seguibl.ttf', 'C:\\\\Windows\\\\Fonts\\\\corbeli.ttf', 'C:\\\\Windows\\\\Fonts\\\\LTYPE.TTF', 'C:\\\\Windows\\\\Fonts\\\\YuGothR.ttc', 'C:\\\\Windows\\\\Fonts\\\\BOD_CR.TTF', 'C:\\\\Windows\\\\Fonts\\\\segoepr.ttf', 'C:\\\\Windows\\\\Fonts\\\\FRAHV.TTF', 'C:\\\\Windows\\\\Fonts\\\\BOD_CB.TTF', 'C:\\\\Windows\\\\Fonts\\\\BRADHITC.TTF', 'C:\\\\Windows\\\\Fonts\\\\lucon.ttf', 'C:\\\\Windows\\\\Fonts\\\\cour.ttf', 'C:\\\\Windows\\\\Fonts\\\\LATINWD.TTF', 'C:\\\\Windows\\\\Fonts\\\\GIGI.TTF', 'C:\\\\Windows\\\\Fonts\\\\PERI____.TTF', 'C:\\\\Windows\\\\Fonts\\\\ROCKB.TTF', 'C:\\\\Windows\\\\Fonts\\\\BERNHC.TTF', 'C:\\\\Windows\\\\Fonts\\\\ELEPHNT.TTF', 'C:\\\\Windows\\\\Fonts\\\\BRLNSB.TTF', 'C:\\\\Windows\\\\Fonts\\\\OUTLOOK.TTF', 'C:\\\\Windows\\\\Fonts\\\\ITCBLKAD.TTF', 'C:\\\\Windows\\\\Fonts\\\\palai.ttf', 'C:\\\\Windows\\\\Fonts\\\\calibril.ttf', 'C:\\\\Windows\\\\Fonts\\\\ARIALNI.TTF', 'C:\\\\Windows\\\\Fonts\\\\Candarai.ttf', 'C:\\\\Windows\\\\Fonts\\\\segoeui.ttf', 'C:\\\\Windows\\\\Fonts\\\\YuGothM.ttc', 'C:\\\\Windows\\\\Fonts\\\\cambriaz.ttf', 'C:\\\\Windows\\\\Fonts\\\\ariali.ttf', 'C:\\\\Windows\\\\Fonts\\\\AGENCYR.TTF', 'C:\\\\Windows\\\\Fonts\\\\gadugi.ttf', 'C:\\\\Windows\\\\Fonts\\\\LTYPEO.TTF', 'C:\\\\Windows\\\\Fonts\\\\FREESCPT.TTF', 'C:\\\\Windows\\\\Fonts\\\\seguisym.ttf', 'C:\\\\Windows\\\\Fonts\\\\BOD_CI.TTF', 'C:\\\\Windows\\\\Fonts\\\\comici.ttf', 'C:\\\\Windows\\\\Fonts\\\\javatext.ttf', 'C:\\\\Windows\\\\Fonts\\\\msyi.ttf', 'C:\\\\Windows\\\\Fonts\\\\constanb.ttf', 'C:\\\\Windows\\\\Fonts\\\\H2PORL.TTF', 'C:\\\\Windows\\\\Fonts\\\\BRUSHSCI.TTF', 'C:\\\\Windows\\\\Fonts\\\\trebuc.ttf', 'C:\\\\Windows\\\\Fonts\\\\framdit.ttf', 'C:\\\\Windows\\\\Fonts\\\\BOD_PSTC.TTF', 'C:\\\\Windows\\\\Fonts\\\\Gabriola.ttf', 'C:\\\\Windows\\\\Fonts\\\\LCALLIG.TTF']\n"
     ]
    }
   ],
   "source": [
    "import matplotlib.font_manager as fm\n",
    "font_file_path_list = fm.findSystemFonts(fontpaths=None, fontext='ttf')\n",
    "print(font_file_path_list)"
   ]
  }
 ],
 "metadata": {
  "kernelspec": {
   "display_name": "Python 3",
   "language": "python",
   "name": "python3"
  },
  "language_info": {
   "codemirror_mode": {
    "name": "ipython",
    "version": 3
   },
   "file_extension": ".py",
   "mimetype": "text/x-python",
   "name": "python",
   "nbconvert_exporter": "python",
   "pygments_lexer": "ipython3",
   "version": "3.7.4"
  }
 },
 "nbformat": 4,
 "nbformat_minor": 2
}
