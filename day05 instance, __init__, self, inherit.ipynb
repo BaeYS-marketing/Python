{
 "cells": [
  {
   "cell_type": "code",
   "execution_count": 24,
   "metadata": {},
   "outputs": [
    {
     "name": "stdout",
     "output_type": "stream",
     "text": [
      "100 120\n",
      "10 20\n"
     ]
    },
    {
     "data": {
      "text/plain": [
       "5"
      ]
     },
     "execution_count": 24,
     "metadata": {},
     "output_type": "execute_result"
    }
   ],
   "source": [
    "class Enemy:\n",
    "    def __init__(self):\n",
    "        self.x=10\n",
    "        self.y=20\n",
    "    \n",
    "    #def disply() :\n",
    "    #    print(self.x, self.y)\n",
    "     \n",
    "    def display(self):   #데이터는 가져와야지 안쓴다고 하더라도_ 왜? 실제에서는 안쓸일이 없기때문에 \n",
    "        x=100\n",
    "        y=120\n",
    "        print(x,y) #근접 접근의 원칙 : 함수와 가장 가까운 지역변수 , 없으면 나가서 자동으로 찾아주면 좋겠지만 파이썬은 그것은 안한다. \n",
    "                  #따라서 바깥으로 넘어갈려면 따로 지정해줘야 한다. \n",
    "    \n",
    "    def display2(self, *name):\n",
    "        print(self.x,self.y)     #생성자로 생성된 x,y로 호출하겠다는 의미 \n",
    "    \n",
    "e1=Enemy()  #self = e1\n",
    "e2=Enemy()  #self = e2\n",
    "e3=Enemy()  #self = e3\n",
    "\n",
    "e1.display()\n",
    "e1.display2()\n",
    "\n",
    "sum([2,3])\n"
   ]
  },
  {
   "cell_type": "code",
   "execution_count": 271,
   "metadata": {},
   "outputs": [
    {
     "name": "stdout",
     "output_type": "stream",
     "text": [
      "115\n"
     ]
    }
   ],
   "source": [
    "class grade :\n",
    "    def __init__(self, 학번,이름,국어,영어,수학):\n",
    "        self.ID = 학번\n",
    "        self.name = 이름\n",
    "        self.kor = 국어\n",
    "        self.eng = 영어\n",
    "        self.math = 수학\n",
    "        \n",
    "    \n",
    "    def total(self):\n",
    "        total = sum((self.kor,self.eng,self.math))\n",
    "        print(total)\n",
    "                    \n",
    "\n",
    "p1=grade(학번=1,이름='홍길동',국어=25,영어=34,수학=56)\n",
    "p1.name\n",
    "p1.total()"
   ]
  },
  {
   "cell_type": "code",
   "execution_count": 62,
   "metadata": {},
   "outputs": [
    {
     "name": "stdout",
     "output_type": "stream",
     "text": [
      "115\n"
     ]
    }
   ],
   "source": [
    "class grade :\n",
    "    def __init__(self, 학번,이름,*전부):\n",
    "        self.ID = 학번\n",
    "        self.name = 이름\n",
    "        self.kor = 전부[0]\n",
    "        self.eng = 전부[1]\n",
    "        self.math = 전부[2]\n",
    "        self.all = 전부\n",
    "        \n",
    "    \n",
    "    def total(self):\n",
    "        total = sum(self.all)\n",
    "        print(total)\n",
    "\n",
    "p1=grade(1,'홍길동',25,34,56)\n",
    "p1.name\n",
    "p1.total()"
   ]
  },
  {
   "cell_type": "code",
   "execution_count": 268,
   "metadata": {},
   "outputs": [
    {
     "name": "stdout",
     "output_type": "stream",
     "text": [
      "115\n"
     ]
    }
   ],
   "source": [
    "class grade :\n",
    "    def __init__(self,학번,이름,국어,영어,수학):\n",
    "        self.ID = 학번\n",
    "        self.name = 이름\n",
    "        self.kor = 국어\n",
    "        self.eng = 영어\n",
    "        self.math = 수학        \n",
    "    \n",
    "    def total(self):\n",
    "        total =  sum([self.kor,self.eng,self.math])\n",
    "        print(total)\n",
    "\n",
    "p1=grade(학번=1,이름='홍길동',국어=25,영어=34,수학=56)\n",
    "p1.name\n",
    "p1.total()"
   ]
  },
  {
   "cell_type": "code",
   "execution_count": 279,
   "metadata": {},
   "outputs": [],
   "source": [
    "class Student:\n",
    "    def __init__(self, i,n,k,e,m):\n",
    "        self.id = i\n",
    "        self.name = n\n",
    "        self.kor = k\n",
    "        self.eng = e\n",
    "        self.math = m\n",
    "        self.total = 0\n",
    "    \n",
    "    def add(self) :\n",
    "        self.total = sum([self.kor,self.eng,self.math])\n",
    "        \n",
    "    def display(self) :\n",
    "        self.add()\n",
    "        print(f\"\\'{self.name}\\' 학생의 총 점수는 {self.total}점 입니다.\")\n",
    "            "
   ]
  },
  {
   "cell_type": "code",
   "execution_count": 1,
   "metadata": {},
   "outputs": [
    {
     "ename": "NameError",
     "evalue": "name 'Student' is not defined",
     "output_type": "error",
     "traceback": [
      "\u001b[1;31m---------------------------------------------------------------------------\u001b[0m",
      "\u001b[1;31mNameError\u001b[0m                                 Traceback (most recent call last)",
      "\u001b[1;32m<ipython-input-1-c3a677a066e5>\u001b[0m in \u001b[0;36m<module>\u001b[1;34m\u001b[0m\n\u001b[1;32m----> 1\u001b[1;33m \u001b[0ms1\u001b[0m\u001b[1;33m=\u001b[0m\u001b[0mStudent\u001b[0m\u001b[1;33m(\u001b[0m\u001b[0mi\u001b[0m\u001b[1;33m=\u001b[0m\u001b[1;36m1\u001b[0m\u001b[1;33m,\u001b[0m \u001b[0mn\u001b[0m\u001b[1;33m=\u001b[0m\u001b[1;34m'홍길동'\u001b[0m\u001b[1;33m,\u001b[0m \u001b[0mk\u001b[0m\u001b[1;33m=\u001b[0m\u001b[1;36m25\u001b[0m\u001b[1;33m,\u001b[0m \u001b[0me\u001b[0m\u001b[1;33m=\u001b[0m\u001b[1;36m34\u001b[0m\u001b[1;33m,\u001b[0m\u001b[0mm\u001b[0m\u001b[1;33m=\u001b[0m\u001b[1;36m50\u001b[0m\u001b[1;33m)\u001b[0m\u001b[1;33m\u001b[0m\u001b[1;33m\u001b[0m\u001b[0m\n\u001b[0m\u001b[0;32m      2\u001b[0m \u001b[0ms1\u001b[0m\u001b[1;33m.\u001b[0m\u001b[0mdisplay\u001b[0m\u001b[1;33m(\u001b[0m\u001b[1;33m)\u001b[0m\u001b[1;33m\u001b[0m\u001b[1;33m\u001b[0m\u001b[0m\n",
      "\u001b[1;31mNameError\u001b[0m: name 'Student' is not defined"
     ]
    }
   ],
   "source": [
    "s1=Student(i=1, n='홍길동', k=25, e=34,m=50)\n",
    "s1.display()"
   ]
  },
  {
   "cell_type": "markdown",
   "metadata": {},
   "source": [
    "# 클래스 상속"
   ]
  },
  {
   "cell_type": "code",
   "execution_count": 286,
   "metadata": {
    "scrolled": true
   },
   "outputs": [
    {
     "name": "stdout",
     "output_type": "stream",
     "text": [
      "'홍길동' 학생의 총 점수는 109점 입니다.\n"
     ]
    }
   ],
   "source": [
    "#외국학생!  + 국적표시\n",
    "class Fstudent(Student):          # (Super_Class)\n",
    "    pass\n",
    "\n",
    "fs=Fstudent(i=1, n='홍길동', k=25, e=34,m=50)\n",
    "fs.display()"
   ]
  },
  {
   "cell_type": "markdown",
   "metadata": {},
   "source": [
    "#### 메소드 오버라이드(덮어쓰기) :수정\n",
    "###### : 남의 라이브러리를 상속받아서 내 입맛에 맞게 수정가능하기 때문에 정말 유용하다."
   ]
  },
  {
   "cell_type": "code",
   "execution_count": 288,
   "metadata": {},
   "outputs": [
    {
     "name": "stdout",
     "output_type": "stream",
     "text": [
      "총점: 109\n"
     ]
    }
   ],
   "source": [
    "#외국학생!  + 국적표시\n",
    "class Fstudent(Student):          # (Super_Class)\n",
    "    def display(self):             #머리부분은 유지하는데(인수,매개변수) 안의 내용을 바꾼다.\n",
    "        self.add()\n",
    "        print(\"총점:\",self.total)\n",
    "\n",
    "fs=Fstudent(i=1, n='홍길동', k=25, e=34,m=50)\n",
    "fs.display()"
   ]
  },
  {
   "cell_type": "code",
   "execution_count": null,
   "metadata": {},
   "outputs": [],
   "source": []
  }
 ],
 "metadata": {
  "kernelspec": {
   "display_name": "Python 3",
   "language": "python",
   "name": "python3"
  },
  "language_info": {
   "codemirror_mode": {
    "name": "ipython",
    "version": 3
   },
   "file_extension": ".py",
   "mimetype": "text/x-python",
   "name": "python",
   "nbconvert_exporter": "python",
   "pygments_lexer": "ipython3",
   "version": "3.7.4"
  }
 },
 "nbformat": 4,
 "nbformat_minor": 2
}
